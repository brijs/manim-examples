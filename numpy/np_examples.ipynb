{
 "cells": [
  {
   "cell_type": "code",
   "execution_count": 2,
   "id": "90d3ad3b-4601-4638-8992-8fa5d340368f",
   "metadata": {},
   "outputs": [],
   "source": [
    "import numpy as np"
   ]
  },
  {
   "cell_type": "code",
   "execution_count": 3,
   "id": "28294436-7630-447a-b7c5-209767d1306f",
   "metadata": {},
   "outputs": [
    {
     "data": {
      "text/plain": [
       "array([[ 4,  5,  6],\n",
       "       [ 8, 10, 12],\n",
       "       [12, 15, 18]])"
      ]
     },
     "execution_count": 3,
     "metadata": {},
     "output_type": "execute_result"
    }
   ],
   "source": [
    "# einsum - Einstein Summation (Sum of Products)\n",
    "\n",
    "A = [1, 2, 3]\n",
    "B = [4, 5, 6]\n",
    "\n",
    "# 2 rules for 'LHS -> RHS'. Letters correspond to axis\n",
    "# - repeated letters in LHS: are \"compatible\" (same or, one of them is 1). These are element-wise multiplied\n",
    "# - dropped letters in RHS: elements are summed along the corresponding axis.\n",
    "\n",
    "\n",
    "# np.inner(A,B) # 32 () scalar. aka dot product\n",
    "# np.outer(A,B) #  shape (A_row, B_col)\n",
    "\n",
    "np.einsum('i', A) # A\n",
    "np.einsum('i->', A) # sum(A)\n",
    "np.einsum('i,j', A, B)\n",
    "\n"
   ]
  },
  {
   "cell_type": "code",
   "execution_count": 5,
   "id": "5cf9d803-a327-47ca-a56e-c1a6a1b091a7",
   "metadata": {},
   "outputs": [
    {
     "name": "stdout",
     "output_type": "stream",
     "text": [
      "Our array is:\n",
      "[[ 0  1  2]\n",
      " [ 3  4  5]\n",
      " [ 6  7  8]\n",
      " [ 9 10 11]]\n",
      "\n",
      "\n",
      "The corner elements of this array are:\n",
      "[ 0  2  9 11]\n"
     ]
    }
   ],
   "source": [
    "# Advanced Indexing\n",
    "\n",
    "import numpy as np \n",
    "x = np.array([[ 0,  1,  2],[ 3,  4,  5],[ 6,  7,  8],[ 9, 10, 11]]) \n",
    "   \n",
    "print ('Our array is:' )\n",
    "print (x )\n",
    "print( '\\n' )\n",
    "\n",
    "rows = np.array([[0,0],[3,3]])\n",
    "cols = np.array([[0,2],[0,2]]) \n",
    "rows = np.array([0,0,3,3])\n",
    "cols = np.array([0,2,0,2]) \n",
    "\n",
    "y = x[rows,cols] \n",
    "   \n",
    "print ('The corner elements of this array are:' )\n",
    "print (y)"
   ]
  },
  {
   "cell_type": "code",
   "execution_count": 7,
   "id": "3ff04784-1260-4d6e-b771-fded30ebe7a2",
   "metadata": {},
   "outputs": [
    {
     "name": "stdout",
     "output_type": "stream",
     "text": [
      "[3 0 1 4 2]\n",
      "[[1 0]\n",
      " [1 2]\n",
      " [1 5]\n",
      " [1 5]\n",
      " [5 1]]\n"
     ]
    }
   ],
   "source": [
    "#lexsort\n",
    "x = np.array([[1,2], [1,5], [5,1], [1,0], [1,5]])\n",
    "# print (x[:,1])\n",
    "idx = np.lexsort((x[:,1], x[:,0]))\n",
    "print (idx)\n",
    "print (x[idx])\n",
    "\n",
    "# np.unique(x[idx], axis=0)"
   ]
  },
  {
   "cell_type": "code",
   "execution_count": 8,
   "id": "500297d8-02dc-405e-996a-3c91c0be9739",
   "metadata": {},
   "outputs": [
    {
     "data": {
      "text/plain": [
       "[2, 2, 22]"
      ]
     },
     "execution_count": 8,
     "metadata": {},
     "output_type": "execute_result"
    }
   ],
   "source": [
    "import operator\n",
    "x = [[25,1,1], [2,2,22], [3,3,3], [43,3,3]]\n",
    "\n",
    "max(x, key=operator.itemgetter(2))"
   ]
  }
 ],
 "metadata": {
  "kernelspec": {
   "display_name": "Python 3",
   "language": "python",
   "name": "python3"
  },
  "language_info": {
   "codemirror_mode": {
    "name": "ipython",
    "version": 3
   },
   "file_extension": ".py",
   "mimetype": "text/x-python",
   "name": "python",
   "nbconvert_exporter": "python",
   "pygments_lexer": "ipython3",
   "version": "3.9.2"
  }
 },
 "nbformat": 4,
 "nbformat_minor": 5
}
