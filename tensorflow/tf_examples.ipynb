{
 "cells": [
  {
   "cell_type": "code",
   "execution_count": 2,
   "id": "6bd75ac1-d2ba-4fb3-b462-6aa89fd4d0e1",
   "metadata": {},
   "outputs": [
    {
     "name": "stdout",
     "output_type": "stream",
     "text": [
      "tf.Tensor(\n",
      "[[0.8 0.2 0.5 0.2 5. ]\n",
      " [0.8 0.2 0.5 0.2 5. ]], shape=(2, 5), dtype=float32)\n"
     ]
    },
    {
     "data": {
      "text/plain": [
       "<tf.Tensor: shape=(2,), dtype=bool, numpy=array([ True, False])>"
      ]
     },
     "execution_count": 2,
     "metadata": {},
     "output_type": "execute_result"
    }
   ],
   "source": [
    "import tensorflow as tf\n",
    "\n",
    "tensor = tf.constant([[1, 2], [3, 4], [5, 6]])\n",
    "# print(tensor)\n",
    "ohe = tf.constant([0,1,0])\n",
    "# print(ohe)\n",
    "out = tf.boolean_mask(tensor, ohe)\n",
    "\n",
    "X = tf.random.uniform([28, 28, 3])\n",
    "# print(X)\n",
    "\n",
    "y_hat = tf.constant([[0.8, 0.2, 0.5, 0.2, 5.0], [0.8, 0.2, 0.5, 0.2, 5.0]]) \n",
    "print(y_hat)\n",
    "Y = tf.constant([4, 1])\n",
    "\n",
    "argmax = tf.cast(tf.argmax(y_hat, axis=1), Y.dtype)\n",
    "argmax == Y"
   ]
  },
  {
   "cell_type": "code",
   "execution_count": 3,
   "id": "bef09604-35d7-4413-8256-c9f3d5bc7ad6",
   "metadata": {},
   "outputs": [
    {
     "name": "stdout",
     "output_type": "stream",
     "text": [
      "tf.Tensor(-2.0, shape=(), dtype=float32)\n",
      "tf.Tensor(4.0, shape=(), dtype=float32)\n"
     ]
    }
   ],
   "source": [
    "# try auto gradient\n",
    "x = tf.Variable(1.)\n",
    "\n",
    "def f(x):\n",
    "    return x**2 + 2*x - 5\n",
    "\n",
    "with tf.GradientTape() as tape:\n",
    "    y = f(x)\n",
    "\n",
    "\n",
    "# y = f(x)\n",
    "\n",
    "print (y)\n",
    "print(tape.gradient(y,x))"
   ]
  },
  {
   "cell_type": "code",
   "execution_count": 4,
   "id": "325a5192-0ec7-45d9-9df9-e87421c000d7",
   "metadata": {},
   "outputs": [
    {
     "data": {
      "text/plain": [
       "<tf.Tensor: shape=(2, 3, 3), dtype=int32, numpy=\n",
       "array([[[ 2,  2,  2],\n",
       "        [ 4,  4,  4],\n",
       "        [ 6,  6,  6]],\n",
       "\n",
       "       [[16, 16, 16],\n",
       "        [20, 20, 20],\n",
       "        [24, 24, 24]]])>"
      ]
     },
     "execution_count": 4,
     "metadata": {},
     "output_type": "execute_result"
    }
   ],
   "source": [
    "# multiplications - understand shapes\n",
    "\n",
    "import tensorflow as tf\n",
    "\n",
    "a = tf.constant([[1,2,3], \n",
    "                 [4,5,6]]) # (2,3)\n",
    "\n",
    "b = tf.constant([[1,1,1], \n",
    "                 [1,1,1]]) # (2,3)\n",
    "\n",
    "b1 = tf.reshape(b, [3,2]) #(3,2)\n",
    "\n",
    "batch_a = tf.stack([a,a], axis=2) # (2,3,2)\n",
    "batch_b = tf.stack([b,b*2], axis=0) # (2,2,3)\n",
    "\n",
    "# print(batch_b)\n",
    "# print(a,b,b1)\n",
    "\n",
    "# tf.matmul(a,b1) # (2,2)\n",
    "# tf.matmul(b1,a) # (3,3)\n",
    "\n",
    "tf.matmul(batch_a, batch_b) # (2,3,3). Batch=2"
   ]
  }
 ],
 "metadata": {
  "kernelspec": {
   "display_name": "Python 3",
   "language": "python",
   "name": "python3"
  },
  "language_info": {
   "codemirror_mode": {
    "name": "ipython",
    "version": 3
   },
   "file_extension": ".py",
   "mimetype": "text/x-python",
   "name": "python",
   "nbconvert_exporter": "python",
   "pygments_lexer": "ipython3",
   "version": "3.9.2"
  }
 },
 "nbformat": 4,
 "nbformat_minor": 5
}
