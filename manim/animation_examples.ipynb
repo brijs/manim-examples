{
 "cells": [
  {
   "cell_type": "code",
   "execution_count": 18,
   "id": "414382c9-495d-465e-a5b0-edf4b4f34bdb",
   "metadata": {},
   "outputs": [],
   "source": [
    "from manim import *\n",
    "\n",
    "# global config\n",
    "config.media_width = \"50%\"\n",
    "config.verbosity = \"WARNING\""
   ]
  },
  {
   "cell_type": "markdown",
   "id": "adc56b8c-d3b6-4d9f-a692-5f478d96b9e0",
   "metadata": {},
   "source": [
    "### Config\n",
    "`manim` options:\n",
    "```\n",
    "-v: verbosity level\n",
    "-ql: medium quality\n",
    "--disable_caching: disable caching\n",
    "```"
   ]
  },
  {
   "cell_type": "code",
   "execution_count": 19,
   "id": "54849d26-b097-4f03-8d23-22bbf873ec28",
   "metadata": {},
   "outputs": [
    {
     "name": "stderr",
     "output_type": "stream",
     "text": [
      "                                                                                                                       \r"
     ]
    },
    {
     "data": {
      "text/html": [
       "<video src=\"media\\jupyter\\SquareToCircle@2022-08-23@20-40-40.mp4\" controls autoplay loop style=\"max-width: 50%;\"  >\n",
       "      Your browser does not support the <code>video</code> element.\n",
       "    </video>"
      ],
      "text/plain": [
       "<IPython.core.display.Video object>"
      ]
     },
     "metadata": {},
     "output_type": "display_data"
    }
   ],
   "source": [
    "%%manim -v WARNING  -qm SquareToCircle \n",
    "\n",
    "# %%manim -v WARNING  -ql SquareToCircle\n",
    "\n",
    "class SquareToCircle(Scene):\n",
    "    def construct(self):\n",
    "        circle = Circle()  # create a circle\n",
    "        circle.set_fill(PINK, opacity=0.5)  # set color and transparency\n",
    "\n",
    "        square = Square()  # create a square\n",
    "        square.rotate(PI / 4)  # rotate a certain amount\n",
    "\n",
    "        self.play(Create(square))  # animate the creation of the square\n",
    "        self.play(Transform(square, circle))  # interpolate the square into the circle\n",
    "        self.play(FadeOut(square))  # fade out animation\n"
   ]
  },
  {
   "cell_type": "code",
   "execution_count": 20,
   "id": "19a5b8ab-9baf-47fd-a406-1faeefbe4b9f",
   "metadata": {},
   "outputs": [
    {
     "name": "stderr",
     "output_type": "stream",
     "text": [
      "                                                                                                                       \r"
     ]
    },
    {
     "data": {
      "text/html": [
       "<video src=\"media\\jupyter\\ToyExample@2022-08-23@20-40-41.mp4\" controls autoplay loop style=\"max-width: 50%;\"  >\n",
       "      Your browser does not support the <code>video</code> element.\n",
       "    </video>"
      ],
      "text/plain": [
       "<IPython.core.display.Video object>"
      ]
     },
     "metadata": {},
     "output_type": "display_data"
    }
   ],
   "source": [
    "%%manim -v WARNING -qm ToyExample\n",
    "\n",
    "class ToyExample(Scene):\n",
    "    def construct(self):\n",
    "        orange_square = Square(color=ORANGE, fill_opacity=0.5)\n",
    "        blue_circle = Circle(color=BLUE, fill_opacity=0.5)\n",
    "        self.add(orange_square)\n",
    "        self.play(ReplacementTransform(orange_square, blue_circle, run_time=3))\n",
    "        small_dot = Dot()\n",
    "        small_dot.add_updater(lambda mob: mob.next_to(blue_circle, DOWN))\n",
    "        self.play(Create(small_dot))\n",
    "        self.play(blue_circle.animate.shift(RIGHT))\n",
    "        self.wait()\n",
    "        self.play(FadeOut(blue_circle, small_dot))"
   ]
  },
  {
   "cell_type": "code",
   "execution_count": 22,
   "id": "ef141d86-b4b0-4b5b-b034-ac72435779f1",
   "metadata": {},
   "outputs": [
    {
     "name": "stderr",
     "output_type": "stream",
     "text": [
      "                                                                                                                       \r"
     ]
    },
    {
     "data": {
      "text/html": [
       "<video src=\"media\\jupyter\\BrijDemo@2022-08-23@20-41-39.mp4\" controls autoplay loop style=\"max-width: 50%;\"  >\n",
       "      Your browser does not support the <code>video</code> element.\n",
       "    </video>"
      ],
      "text/plain": [
       "<IPython.core.display.Video object>"
      ]
     },
     "metadata": {},
     "output_type": "display_data"
    }
   ],
   "source": [
    "%%manim  -v WARNING -qm BrijDemo\n",
    "\n",
    "class BrijCount(Animation):\n",
    "    def __init__(self, number:DecimalNumber, start, end):\n",
    "        super().__init__(number)\n",
    "        self.start = start\n",
    "        self.end = end\n",
    "    \n",
    "    def interpolate(self, alpha):\n",
    "        self.mobject.set_value(self.start + alpha * (self.end - self.start))\n",
    "\n",
    "\n",
    "class BrijDemo(Scene):\n",
    "    def construct(self):\n",
    "        b = BrijCount(DecimalNumber(2.), 0, 10)\n",
    "        self.play(b)"
   ]
  },
  {
   "cell_type": "markdown",
   "id": "29fa6e8b-9e9e-4833-bc84-821664660a59",
   "metadata": {},
   "source": [
    "### mobject > vmobject > ....\n",
    "[Mobject documentation](https://docs.manim.community/en/stable/reference/manim.mobject.mobject.Mobject.html#manim.mobject.mobject.Mobject)\n",
    "Also, see [building blocks](https://docs.manim.community/en/stable/tutorials/building_blocks.html)\n",
    "\n",
    "#### Mobjects\n",
    "```\n",
    "- Geometry\n",
    "- Matrix\n",
    "- mobject\n",
    "- text\n",
    "- types \n",
    "   - VGroup (VMobject grouped together to transform them together)\n",
    "   - VDict (same as VGroup, but with keys)\n",
    "- Number\n",
    "   - DecimalNumber | Integer | \n",
    "Graphing / Coordinate system\n",
    "   - NumberPlane\n",
    "   - Axes\n",
    "   - ComplexPlane\n",
    "   - ThreeDAxes\n",
    "```\n",
    "\n",
    "#### Mathematical Object (most methods below are for `vectorized mobject`)\n",
    "```\n",
    "- get_coord\n",
    "- set_x(0) / get_x()\n",
    "- set_y(2) / get_y()\n",
    "- get_center()\n",
    "- stretch_to_fit_height/width(x)\n",
    "- get_critical_point(UP)[1] # bounding box: 4 corners, 4 edge-centers, 1 center\n",
    "- get_top()[1], get_extremum_along_dim(dim=1, key=1)\n",
    "- shift(4*LEFT) # shift by given vector\n",
    "- move_to(DOWN) # Move center to specified coordinate\n",
    "- next_to(mobject1, RIGHT)\n",
    "- rotate()\n",
    "- scale(3)\n",
    "- arrange(buff=1.5)\n",
    "- arrange_in_grid()\n",
    "- become()\n",
    "- set_stroke(color=GREEN, width=20) # Border\n",
    "- set_fill(YELLOW, opacity=0.8) # Interior\n",
    "\n",
    "# Animate\n",
    "- square.animate.anyPropertyChangeMethod... # pass this to scene.play()\n",
    "\n",
    "Properties:\n",
    "- fill_opacity=1\n",
    "- fill_color=ORANGE\n",
    "- width, height, depth\n",
    "```\n",
    "\n",
    "#### Constants\n",
    "```\n",
    "Constants: https://docs.manim.community/en/stable/reference/manim.constants.html\n",
    "- ORIGIN (0,0,0): (x, y, z)\n",
    "- UP (0, 1, 0) | DOWN | RIGHT | LEFT | IN | OUT : Unit Vectors\n",
    "- UR (1, 1, 0) | UL | DL | DR\n",
    "- PI | TAU | DEGREES\n",
    "```\n",
    "\n",
    "#### Colors\n",
    "[Colors](https://docs.manim.community/en/stable/reference/manim.utils.color.Colors.html)\n",
    "```\n",
    "RED, YELLOW, ..\n",
    "```"
   ]
  },
  {
   "cell_type": "markdown",
   "id": "2e8132dd-9797-40b8-a430-6834d1cca1f1",
   "metadata": {},
   "source": [
    "### Animations\n",
    "\n",
    "2 ways to generate Animation Objects\n",
    "\n",
    "#### Animation 1 - for simple ones\n",
    "Use `.animate` prefix before vmobject.<transformation_methods> to get Animation Objects; and pass to `scene.play()`\n",
    "```\n",
    "- Examples\n",
    "  - self.play(circle.animate.shift(4*RIGHT), run_time=4, rate_func=linear)\n",
    "  - self.play(circle.animate.rotate(-0.6), .. )\n",
    "```\n",
    "\n",
    "#### Animation 2 \n",
    "Use predefined Classes for slightly more complex animations. These have the animation logic built in. pass to `scene.play()`\n",
    "grouped logically (not necessarily grouped by Base classes)\n",
    "```\n",
    "- Transform\n",
    "   - GrowFromPoint, GrowFromEdge, GrowFromCenter, GrowArrow\n",
    "   - FadeTransform \n",
    "- Create\n",
    "   - Create, Uncreate, DrawBorderthenFill\n",
    "   - Write, Unwrite, AddTextLetterByLetter/WordByWord\n",
    "   - ShowPartial, showSubmobjectsOneByOne, ShowIncreasingSubsets(vgroup1)\n",
    "```\n",
    "\n",
    "#### Utils (for Animations)\n",
    "```\n",
    "- Path\n",
    "    - utils.paths.clockwise_path / counterclockwise_path()\n",
    "    - spiral_path | straight_path\n",
    "- Rate functions\n",
    "    - Speed curves for animations\n",
    "    - ease in | ease out | both\n",
    "    - linear\n",
    "    - more..\n",
    "```    \n",
    "\n",
    "\n",
    "#### Pseudo code for creating animations\n",
    "```\n",
    "# Set up initial view\n",
    "# scene.add(mobjects....)\n",
    "\n",
    "# Consider, if you need value_tracker\n",
    "#  - something that needs to change over time\n",
    "#  - other Objects will depend on it\n",
    "\n",
    "# Hookup callbacks. Connect object dependencies or just update state every time-step using add_updaters() \n",
    "\n",
    "\n",
    "# Consider next view (or final view)\n",
    "# call scene.play(animation_object) # using one of the 2 methods\n",
    "\n",
    "# scene.wait() as needed\n",
    "```"
   ]
  },
  {
   "cell_type": "markdown",
   "id": "bf24ae1e-fc05-439d-8802-3ce4584cb7be",
   "metadata": {},
   "source": [
    "### Scene\n",
    "```\n",
    "- Scene\n",
    "  - add(mobjects...) # Left -> right : back -> front\n",
    "- MovingCameraScene | scene.camera.frame.move_to(square).set(width=2*width) # to move and zoom camera\n",
    "        - scene.play(Restore(self.camera.frame))\n",
    "\n",
    "- add_updater(). They are the last t ype of updaters to run every frame\n",
    "\n",
    "- scene.play()\n",
    "   - default 1 second; run_time=3\n",
    "```\n",
    "\n",
    "#### Camera\n",
    "```\n",
    "- Camera - controls what is displayed.\n",
    "    - MovingCamera # used in MovingCameraScene for zooming and moving focus on various mobjects\n",
    "        - camera.frame. Frame is a Rectangle Mobject. \n",
    "```"
   ]
  },
  {
   "cell_type": "code",
   "execution_count": null,
   "id": "abd0266b-a90f-4641-b112-b52c7dcf2c7c",
   "metadata": {},
   "outputs": [],
   "source": []
  }
 ],
 "metadata": {
  "kernelspec": {
   "display_name": "Python 3",
   "language": "python",
   "name": "python3"
  },
  "language_info": {
   "codemirror_mode": {
    "name": "ipython",
    "version": 3
   },
   "file_extension": ".py",
   "mimetype": "text/x-python",
   "name": "python",
   "nbconvert_exporter": "python",
   "pygments_lexer": "ipython3",
   "version": "3.9.2"
  }
 },
 "nbformat": 4,
 "nbformat_minor": 5
}
